{
 "cells": [
  {
   "cell_type": "markdown",
   "id": "91f0cf28",
   "metadata": {},
   "source": [
    "Here we are going to use the California Housing Prices dataset from the StatLib repository. <br>\n",
    "This dataset is based on data from the 1990 California census. It is not exactly recent (a nice house in the Bay Area was still affordable at the time). <br>\n",
    "We are going to use the 8 main steps for a Machine Learning Project as follows;<br>\n",
    "**There are eight main steps:**\n",
    "1. Frame the problem and look at the big picture.\n",
    "2. Get the data.\n",
    "3. Explore the data to gain insights.\n",
    "4. Prepare the data to better expose the underlying data patterns to machine learning algorithms.\n",
    "5. Explore many different models and shortlist the best ones.\n",
    "6. Fine-tune your models and combine them into a great solution.\n",
    "7. Present your solution.\n",
    "8. Launch, monitor, and maintain your system.\n"
   ]
  },
  {
   "cell_type": "markdown",
   "id": "207633b3",
   "metadata": {},
   "source": [
    "## 1. Frame the problem and look at the big picture.\n",
    "The task is to predict median house values in Californian districts, given a number of features from these districts."
   ]
  },
  {
   "cell_type": "markdown",
   "id": "a72ad261",
   "metadata": {},
   "source": [
    "## 2. Get the data."
   ]
  },
  {
   "cell_type": "code",
   "execution_count": null,
   "id": "eaa4c45c",
   "metadata": {},
   "outputs": [],
   "source": []
  }
 ],
 "metadata": {
  "kernelspec": {
   "display_name": "Python 3 (ipykernel)",
   "language": "python",
   "name": "python3"
  },
  "language_info": {
   "codemirror_mode": {
    "name": "ipython",
    "version": 3
   },
   "file_extension": ".py",
   "mimetype": "text/x-python",
   "name": "python",
   "nbconvert_exporter": "python",
   "pygments_lexer": "ipython3",
   "version": "3.9.18"
  }
 },
 "nbformat": 4,
 "nbformat_minor": 5
}
